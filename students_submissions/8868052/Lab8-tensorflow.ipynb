{
 "cells": [
  {
   "cell_type": "markdown",
   "metadata": {},
   "source": [
    "# Foundations of Machine Learning Frameworks Lab-8\n",
    "Name: Devanshi Joshi   \n",
    "Id: 8868052"
   ]
  },
  {
   "cell_type": "markdown",
   "metadata": {},
   "source": [
    "Using Tensorflow:\n",
    "* Calculate the dot product between the same vectors as above (re-define them in Tensorflow) (1.5 points)"
   ]
  },
  {
   "cell_type": "code",
   "execution_count": 1,
   "metadata": {},
   "outputs": [],
   "source": [
    "import tensorflow as tf"
   ]
  },
  {
   "cell_type": "code",
   "execution_count": 3,
   "metadata": {},
   "outputs": [
    {
     "name": "stdout",
     "output_type": "stream",
     "text": [
      "Dot Product of two vectors using TensorFlow:  tf.Tensor(175, shape=(), dtype=int32)\n"
     ]
    }
   ],
   "source": [
    "vector1_tf = tf.constant([8, 12, 1])\n",
    "vector2_tf = tf.constant([14, 5, 3])\n",
    "dotProducttf = tf.tensordot(vector1_tf, vector2_tf, axes=1)\n",
    "print(\"Dot Product of two vectors using TensorFlow: \", dotProducttf)"
   ]
  },
  {
   "cell_type": "markdown",
   "metadata": {},
   "source": [
    "* Calculate the matrix multiplication of the same matrics as above (re-define them in Tensorflow) (1.5 points)"
   ]
  },
  {
   "cell_type": "code",
   "execution_count": 4,
   "metadata": {},
   "outputs": [
    {
     "name": "stdout",
     "output_type": "stream",
     "text": [
      "Matrix Multiplication TensorFlow:\n",
      "tf.Tensor(\n",
      "[[43 50]\n",
      " [19 22]], shape=(2, 2), dtype=int32)\n"
     ]
    }
   ],
   "source": [
    "matrix1_tf = tf.constant([[3, 4], [1, 2]])\n",
    "matrix2_tf = tf.constant([[5, 6], [7, 8]])\n",
    "matrixMulttf = tf.matmul(matrix1_tf, matrix2_tf)\n",
    "print(\"Matrix Multiplication TensorFlow:\")\n",
    "print(matrixMulttf)"
   ]
  }
 ],
 "metadata": {
  "kernelspec": {
   "display_name": "tensorflow_cpu",
   "language": "python",
   "name": "python3"
  },
  "language_info": {
   "codemirror_mode": {
    "name": "ipython",
    "version": 3
   },
   "file_extension": ".py",
   "mimetype": "text/x-python",
   "name": "python",
   "nbconvert_exporter": "python",
   "pygments_lexer": "ipython3",
   "version": "3.11.3"
  }
 },
 "nbformat": 4,
 "nbformat_minor": 2
}
