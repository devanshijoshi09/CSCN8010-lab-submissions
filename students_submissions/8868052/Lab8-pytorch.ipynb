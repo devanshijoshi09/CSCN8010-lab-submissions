{
 "cells": [
  {
   "cell_type": "markdown",
   "metadata": {},
   "source": [
    "# Foundations of Machine Learning Frameworks Lab-8\n",
    "Name: Devanshi Joshi   \n",
    "Id: 8868052"
   ]
  },
  {
   "cell_type": "markdown",
   "metadata": {},
   "source": [
    "Using PyTorch:\n",
    "* Calculate the dot product between two vectors each of length 3 (1.5 points)"
   ]
  },
  {
   "cell_type": "code",
   "execution_count": 1,
   "metadata": {},
   "outputs": [],
   "source": [
    "import torch"
   ]
  },
  {
   "cell_type": "code",
   "execution_count": 5,
   "metadata": {},
   "outputs": [
    {
     "name": "stdout",
     "output_type": "stream",
     "text": [
      "Dot product of two vectors using PyTorch:  tensor(175)\n"
     ]
    }
   ],
   "source": [
    "torchVector1 = torch.tensor([8, 12, 1])\n",
    "torchVector2 = torch.tensor([14, 5, 3])\n",
    "dotProductTorch = torch.dot(torchVector1, torchVector2)\n",
    "print(\"Dot product of two vectors using PyTorch: \", dotProductTorch)"
   ]
  },
  {
   "cell_type": "markdown",
   "metadata": {},
   "source": [
    "* Calculate the matrix multiplication of two 2-dimensional matrices, each with a size of (2,2) (1.5 points)"
   ]
  },
  {
   "cell_type": "code",
   "execution_count": 6,
   "metadata": {},
   "outputs": [
    {
     "name": "stdout",
     "output_type": "stream",
     "text": [
      "The result of matrix multiplication is:\n",
      "tensor([[43, 50],\n",
      "        [19, 22]])\n"
     ]
    }
   ],
   "source": [
    "torchMatrix1 = torch.tensor([[3, 4], [1, 2]])\n",
    "torchMatrix2 = torch.tensor([[5, 6], [7, 8]])\n",
    "matrixMultiTorch = torch.mm(torchMatrix1, torchMatrix2)\n",
    "print(\"The result of matrix multiplication is:\")\n",
    "print(matrixMultiTorch)"
   ]
  }
 ],
 "metadata": {
  "kernelspec": {
   "display_name": "pytorch_cpu",
   "language": "python",
   "name": "python3"
  },
  "language_info": {
   "codemirror_mode": {
    "name": "ipython",
    "version": 3
   },
   "file_extension": ".py",
   "mimetype": "text/x-python",
   "name": "python",
   "nbconvert_exporter": "python",
   "pygments_lexer": "ipython3",
   "version": "3.11.3"
  }
 },
 "nbformat": 4,
 "nbformat_minor": 2
}
